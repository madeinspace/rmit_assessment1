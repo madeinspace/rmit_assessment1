{
 "cells": [
  {
   "cell_type": "code",
   "execution_count": 1,
   "metadata": {},
   "outputs": [],
   "source": [
    "#Task 1: Data Preparation\n",
    "# \"You will start by loading the CSV data from the file (using appropriate pandas functions) and checking whether the loaded data is equivalent to the data in the source CSV file.\n",
    "# Then, you need to clean the data by using the knowledge we taught in the lectures. You need to deal with all the potential issues/errors in the data appropriately (such as: typos, extra whitespaces, sanity checks for impossible values, and missing values etc). \"\n",
    "\n",
    "# Please structure code as follows: \n",
    "# always provide one line of comments to explain the purpose of the code, e.g. load the data, checking the equivalent to original data, checking typos (do this for each other types of errors)"
   ]
  },
  {
   "cell_type": "markdown",
   "metadata": {},
   "source": [
    "Attributes description taken from that page: https://archive.ics.uci.edu/ml/datasets/Automobile"
   ]
  },
  {
   "cell_type": "markdown",
   "metadata": {},
   "source": [
    "Import the libraries"
   ]
  },
  {
   "cell_type": "code",
   "execution_count": 2,
   "metadata": {},
   "outputs": [],
   "source": [
    "%config InlineBackend.figure_format = 'retina'\n",
    "import matplotlib\n",
    "matplotlib.rcParams['figure.figsize'] = (20.0, 15.0)\n",
    "import pandas as pd\n",
    "import numpy as np\n",
    "import matplotlib.pyplot as plt\n",
    "from pandas.plotting import scatter_matrix\n",
    "\n"
   ]
  },
  {
   "cell_type": "markdown",
   "metadata": {},
   "source": [
    "Get pandas to display all columns (the dataset was truncated)"
   ]
  },
  {
   "cell_type": "code",
   "execution_count": 3,
   "metadata": {},
   "outputs": [],
   "source": [
    "pd.set_option('display.max_columns', 26)"
   ]
  },
  {
   "cell_type": "markdown",
   "metadata": {},
   "source": [
    "Create the automobile data frame by loading the csv file, adding the missing header row and quickly inspect it using the head() method\n",
    "and make sure I don't have any missing columns and they have the appropriate name."
   ]
  },
  {
   "cell_type": "code",
   "execution_count": 4,
   "metadata": {
    "scrolled": false
   },
   "outputs": [
    {
     "data": {
      "text/html": [
       "<div>\n",
       "<style scoped>\n",
       "    .dataframe tbody tr th:only-of-type {\n",
       "        vertical-align: middle;\n",
       "    }\n",
       "\n",
       "    .dataframe tbody tr th {\n",
       "        vertical-align: top;\n",
       "    }\n",
       "\n",
       "    .dataframe thead th {\n",
       "        text-align: right;\n",
       "    }\n",
       "</style>\n",
       "<table border=\"1\" class=\"dataframe\">\n",
       "  <thead>\n",
       "    <tr style=\"text-align: right;\">\n",
       "      <th></th>\n",
       "      <th>Symboling</th>\n",
       "      <th>Normalised-losses</th>\n",
       "      <th>Make</th>\n",
       "      <th>Fuel-type</th>\n",
       "      <th>Aspiration</th>\n",
       "      <th>Num-of-doors</th>\n",
       "      <th>Body-style</th>\n",
       "      <th>Drive-wheels</th>\n",
       "      <th>Engine-location</th>\n",
       "      <th>Wheel-base</th>\n",
       "      <th>Length</th>\n",
       "      <th>Width</th>\n",
       "      <th>Height</th>\n",
       "      <th>Curb-weight</th>\n",
       "      <th>Engine-type</th>\n",
       "      <th>Num-of-cylinders</th>\n",
       "      <th>Engine-size</th>\n",
       "      <th>Fuel-system</th>\n",
       "      <th>Bore</th>\n",
       "      <th>Stroke</th>\n",
       "      <th>Compression-ratio</th>\n",
       "      <th>Horsepower</th>\n",
       "      <th>Peak-rpm</th>\n",
       "      <th>City-mpg</th>\n",
       "      <th>Highway-mpg</th>\n",
       "      <th>Price</th>\n",
       "    </tr>\n",
       "  </thead>\n",
       "  <tbody>\n",
       "    <tr>\n",
       "      <th>0</th>\n",
       "      <td>3</td>\n",
       "      <td>NaN</td>\n",
       "      <td>alfa-romero</td>\n",
       "      <td>gas</td>\n",
       "      <td>std</td>\n",
       "      <td>two</td>\n",
       "      <td>convertible</td>\n",
       "      <td>rwd</td>\n",
       "      <td>front</td>\n",
       "      <td>88.6</td>\n",
       "      <td>168.8</td>\n",
       "      <td>64.1</td>\n",
       "      <td>48.8</td>\n",
       "      <td>2548</td>\n",
       "      <td>dohc</td>\n",
       "      <td>four</td>\n",
       "      <td>130</td>\n",
       "      <td>mpfi</td>\n",
       "      <td>3.47</td>\n",
       "      <td>2.68</td>\n",
       "      <td>9.0</td>\n",
       "      <td>111.0</td>\n",
       "      <td>5000.0</td>\n",
       "      <td>21</td>\n",
       "      <td>27</td>\n",
       "      <td>13495.0</td>\n",
       "    </tr>\n",
       "    <tr>\n",
       "      <th>1</th>\n",
       "      <td>3</td>\n",
       "      <td>NaN</td>\n",
       "      <td>alfa-romero</td>\n",
       "      <td>gas</td>\n",
       "      <td>std</td>\n",
       "      <td>two</td>\n",
       "      <td>convertible</td>\n",
       "      <td>rwd</td>\n",
       "      <td>front</td>\n",
       "      <td>88.6</td>\n",
       "      <td>168.8</td>\n",
       "      <td>64.1</td>\n",
       "      <td>48.8</td>\n",
       "      <td>2548</td>\n",
       "      <td>dohc</td>\n",
       "      <td>four</td>\n",
       "      <td>130</td>\n",
       "      <td>mpfi</td>\n",
       "      <td>3.47</td>\n",
       "      <td>2.68</td>\n",
       "      <td>9.0</td>\n",
       "      <td>111.0</td>\n",
       "      <td>5000.0</td>\n",
       "      <td>21</td>\n",
       "      <td>27</td>\n",
       "      <td>16500.0</td>\n",
       "    </tr>\n",
       "    <tr>\n",
       "      <th>2</th>\n",
       "      <td>1</td>\n",
       "      <td>NaN</td>\n",
       "      <td>alfa-romero</td>\n",
       "      <td>gas</td>\n",
       "      <td>std</td>\n",
       "      <td>two</td>\n",
       "      <td>hatchback</td>\n",
       "      <td>rwd</td>\n",
       "      <td>front</td>\n",
       "      <td>94.5</td>\n",
       "      <td>171.2</td>\n",
       "      <td>65.5</td>\n",
       "      <td>52.4</td>\n",
       "      <td>2823</td>\n",
       "      <td>ohcv</td>\n",
       "      <td>six</td>\n",
       "      <td>152</td>\n",
       "      <td>mpfi</td>\n",
       "      <td>2.68</td>\n",
       "      <td>3.47</td>\n",
       "      <td>9.0</td>\n",
       "      <td>154.0</td>\n",
       "      <td>5000.0</td>\n",
       "      <td>19</td>\n",
       "      <td>26</td>\n",
       "      <td>16500.0</td>\n",
       "    </tr>\n",
       "    <tr>\n",
       "      <th>3</th>\n",
       "      <td>2</td>\n",
       "      <td>164.0</td>\n",
       "      <td>audi</td>\n",
       "      <td>gas</td>\n",
       "      <td>std</td>\n",
       "      <td>four</td>\n",
       "      <td>sedan</td>\n",
       "      <td>fwd</td>\n",
       "      <td>front</td>\n",
       "      <td>99.8</td>\n",
       "      <td>176.6</td>\n",
       "      <td>66.2</td>\n",
       "      <td>54.3</td>\n",
       "      <td>2337</td>\n",
       "      <td>ohc</td>\n",
       "      <td>four</td>\n",
       "      <td>109</td>\n",
       "      <td>mpfi</td>\n",
       "      <td>3.19</td>\n",
       "      <td>3.40</td>\n",
       "      <td>10.0</td>\n",
       "      <td>102.0</td>\n",
       "      <td>5500.0</td>\n",
       "      <td>24</td>\n",
       "      <td>30</td>\n",
       "      <td>13950.0</td>\n",
       "    </tr>\n",
       "    <tr>\n",
       "      <th>4</th>\n",
       "      <td>2</td>\n",
       "      <td>164.0</td>\n",
       "      <td>audi</td>\n",
       "      <td>gas</td>\n",
       "      <td>std</td>\n",
       "      <td>four</td>\n",
       "      <td>sedan</td>\n",
       "      <td>4wd</td>\n",
       "      <td>front</td>\n",
       "      <td>99.4</td>\n",
       "      <td>176.6</td>\n",
       "      <td>66.4</td>\n",
       "      <td>54.3</td>\n",
       "      <td>2824</td>\n",
       "      <td>ohc</td>\n",
       "      <td>five</td>\n",
       "      <td>136</td>\n",
       "      <td>mpfi</td>\n",
       "      <td>3.19</td>\n",
       "      <td>3.40</td>\n",
       "      <td>8.0</td>\n",
       "      <td>115.0</td>\n",
       "      <td>5500.0</td>\n",
       "      <td>18</td>\n",
       "      <td>22</td>\n",
       "      <td>17450.0</td>\n",
       "    </tr>\n",
       "  </tbody>\n",
       "</table>\n",
       "</div>"
      ],
      "text/plain": [
       "   Symboling  Normalised-losses         Make Fuel-type Aspiration  \\\n",
       "0          3                NaN  alfa-romero       gas        std   \n",
       "1          3                NaN  alfa-romero       gas        std   \n",
       "2          1                NaN  alfa-romero       gas        std   \n",
       "3          2              164.0         audi       gas        std   \n",
       "4          2              164.0         audi       gas        std   \n",
       "\n",
       "  Num-of-doors   Body-style Drive-wheels Engine-location  Wheel-base  Length  \\\n",
       "0          two  convertible          rwd           front        88.6   168.8   \n",
       "1          two  convertible          rwd           front        88.6   168.8   \n",
       "2          two    hatchback          rwd           front        94.5   171.2   \n",
       "3         four        sedan          fwd           front        99.8   176.6   \n",
       "4         four        sedan          4wd           front        99.4   176.6   \n",
       "\n",
       "   Width  Height  Curb-weight Engine-type Num-of-cylinders  Engine-size  \\\n",
       "0   64.1    48.8         2548        dohc             four          130   \n",
       "1   64.1    48.8         2548        dohc             four          130   \n",
       "2   65.5    52.4         2823        ohcv              six          152   \n",
       "3   66.2    54.3         2337         ohc             four          109   \n",
       "4   66.4    54.3         2824         ohc             five          136   \n",
       "\n",
       "  Fuel-system  Bore  Stroke  Compression-ratio  Horsepower  Peak-rpm  \\\n",
       "0        mpfi  3.47    2.68                9.0       111.0    5000.0   \n",
       "1        mpfi  3.47    2.68                9.0       111.0    5000.0   \n",
       "2        mpfi  2.68    3.47                9.0       154.0    5000.0   \n",
       "3        mpfi  3.19    3.40               10.0       102.0    5500.0   \n",
       "4        mpfi  3.19    3.40                8.0       115.0    5500.0   \n",
       "\n",
       "   City-mpg  Highway-mpg    Price  \n",
       "0        21           27  13495.0  \n",
       "1        21           27  16500.0  \n",
       "2        19           26  16500.0  \n",
       "3        24           30  13950.0  \n",
       "4        18           22  17450.0  "
      ]
     },
     "execution_count": 4,
     "metadata": {},
     "output_type": "execute_result"
    }
   ],
   "source": [
    "data = 'https://raw.githubusercontent.com/madeinspace/rmit_assessment1/main/Automobile.csv'\n",
    "automobile = pd.read_csv(data, sep=\"#\", header=None, names=['Symboling', \n",
    "                                                          'Normalised-losses', \n",
    "                                                          'Make', \n",
    "                                                          'Fuel-type',\n",
    "                                                          'Aspiration',\n",
    "                                                          'Num-of-doors', \n",
    "                                                          'Body-style',\n",
    "                                                          'Drive-wheels' ,\n",
    "                                                          'Engine-location', \n",
    "                                                          'Wheel-base',\n",
    "                                                          'Length',\n",
    "                                                          'Width',\n",
    "                                                          'Height', \n",
    "                                                          'Curb-weight', \n",
    "                                                          'Engine-type',\n",
    "                                                          'Num-of-cylinders', \n",
    "                                                          'Engine-size', \n",
    "                                                          'Fuel-system', \n",
    "                                                          'Bore', \n",
    "                                                          'Stroke', \n",
    "                                                          'Compression-ratio', \n",
    "                                                          'Horsepower', \n",
    "                                                          'Peak-rpm', \n",
    "                                                          'City-mpg', \n",
    "                                                          'Highway-mpg', \n",
    "                                                          'Price'])\n",
    "automobile.head()"
   ]
  },
  {
   "cell_type": "markdown",
   "metadata": {},
   "source": [
    "Checking the size of the dataset, this tells me it has 238 rows and 26 columns"
   ]
  },
  {
   "cell_type": "code",
   "execution_count": 5,
   "metadata": {},
   "outputs": [
    {
     "data": {
      "text/plain": [
       "(238, 26)"
      ]
     },
     "execution_count": 5,
     "metadata": {},
     "output_type": "execute_result"
    }
   ],
   "source": [
    "automobile.shape"
   ]
  },
  {
   "cell_type": "markdown",
   "metadata": {},
   "source": [
    "Here I want to check if some data type would need any change"
   ]
  },
  {
   "cell_type": "code",
   "execution_count": 6,
   "metadata": {},
   "outputs": [
    {
     "data": {
      "text/plain": [
       "Symboling              int64\n",
       "Normalised-losses    float64\n",
       "Make                  object\n",
       "Fuel-type             object\n",
       "Aspiration            object\n",
       "Num-of-doors          object\n",
       "Body-style            object\n",
       "Drive-wheels          object\n",
       "Engine-location       object\n",
       "Wheel-base           float64\n",
       "Length               float64\n",
       "Width                float64\n",
       "Height               float64\n",
       "Curb-weight            int64\n",
       "Engine-type           object\n",
       "Num-of-cylinders      object\n",
       "Engine-size            int64\n",
       "Fuel-system           object\n",
       "Bore                 float64\n",
       "Stroke               float64\n",
       "Compression-ratio    float64\n",
       "Horsepower           float64\n",
       "Peak-rpm             float64\n",
       "City-mpg               int64\n",
       "Highway-mpg            int64\n",
       "Price                float64\n",
       "dtype: object"
      ]
     },
     "execution_count": 6,
     "metadata": {},
     "output_type": "execute_result"
    }
   ],
   "source": [
    "automobile.dtypes"
   ]
  },
  {
   "cell_type": "markdown",
   "metadata": {},
   "source": [
    "Here I'm having a quick glance at the dataframe and can already see that I'm going to have to deal with spelling mistake and missing values"
   ]
  },
  {
   "cell_type": "code",
   "execution_count": 7,
   "metadata": {
    "scrolled": true
   },
   "outputs": [
    {
     "data": {
      "text/plain": [
       "<bound method DataFrame.info of      Symboling  Normalised-losses         Make Fuel-type Aspiration  \\\n",
       "0            3                NaN  alfa-romero       gas        std   \n",
       "1            3                NaN  alfa-romero       gas        std   \n",
       "2            1                NaN  alfa-romero       gas        std   \n",
       "3            2              164.0         audi       gas        std   \n",
       "4            2              164.0         audi       gas        std   \n",
       "..         ...                ...          ...       ...        ...   \n",
       "233         -1               95.0       volvo        gas        std   \n",
       "234         -1                NaN       volvo     diesel      turbo   \n",
       "235         -1                NaN   vol00112ov       gas      turbo   \n",
       "236         -1               95.0        volvo    diesel   turrrrbo   \n",
       "237         -1               95.0        volvo       gas      turbo   \n",
       "\n",
       "    Num-of-doors   Body-style Drive-wheels Engine-location  Wheel-base  \\\n",
       "0            two  convertible          rwd           front        88.6   \n",
       "1            two  convertible          rwd           front        88.6   \n",
       "2            two    hatchback          rwd           front        94.5   \n",
       "3           four        sedan          fwd           front        99.8   \n",
       "4           four        sedan          4wd           front        99.4   \n",
       "..           ...          ...          ...             ...         ...   \n",
       "233         four        sedan          rwd           front       109.1   \n",
       "234         four        sedan          rwd           front       109.1   \n",
       "235         four        sedan          rwd           front       109.1   \n",
       "236         four        sedan          rwd           front       109.1   \n",
       "237        fourR        sedan          rwd           front       109.1   \n",
       "\n",
       "     Length  Width  Height  Curb-weight Engine-type Num-of-cylinders  \\\n",
       "0     168.8   64.1    48.8         2548        dohc             four   \n",
       "1     168.8   64.1    48.8         2548        dohc             four   \n",
       "2     171.2   65.5    52.4         2823        ohcv              six   \n",
       "3     176.6   66.2    54.3         2337         ohc             four   \n",
       "4     176.6   66.4    54.3         2824         ohc             five   \n",
       "..      ...    ...     ...          ...         ...              ...   \n",
       "233   188.8   68.9    55.5         3012        ohcv              six   \n",
       "234   188.8   68.9    55.5         3217         ohc              six   \n",
       "235   188.8   68.9    55.5         3062         ohc             four   \n",
       "236   188.8   68.9    55.5         3217         ohc              six   \n",
       "237   188.8   68.9    55.5         3062         ohc             four   \n",
       "\n",
       "     Engine-size Fuel-system  Bore  Stroke  Compression-ratio  Horsepower  \\\n",
       "0            130        mpfi  3.47    2.68                9.0       111.0   \n",
       "1            130        mpfi  3.47    2.68                9.0       111.0   \n",
       "2            152        mpfi  2.68    3.47                9.0       154.0   \n",
       "3            109        mpfi  3.19    3.40               10.0       102.0   \n",
       "4            136        mpfi  3.19    3.40                8.0       115.0   \n",
       "..           ...         ...   ...     ...                ...         ...   \n",
       "233          173        mpfi  3.58    2.87                8.8       134.0   \n",
       "234          145         idi  3.01    3.40               23.0       106.0   \n",
       "235          141        mpfi  3.78    3.15                9.5       114.0   \n",
       "236          145         idi  3.01    3.40               23.0       106.0   \n",
       "237          141        mpfi  3.78    3.15                9.5       114.0   \n",
       "\n",
       "     Peak-rpm  City-mpg  Highway-mpg    Price  \n",
       "0      5000.0        21           27  13495.0  \n",
       "1      5000.0        21           27  16500.0  \n",
       "2      5000.0        19           26  16500.0  \n",
       "3      5500.0        24           30  13950.0  \n",
       "4      5500.0        18           22  17450.0  \n",
       "..        ...       ...          ...      ...  \n",
       "233    5500.0        18           23  21485.0  \n",
       "234    4800.0        26           27  22470.0  \n",
       "235    5400.0        19           25  22625.0  \n",
       "236    4800.0        26           27      0.0  \n",
       "237    5400.0        19           25      0.0  \n",
       "\n",
       "[238 rows x 26 columns]>"
      ]
     },
     "execution_count": 7,
     "metadata": {},
     "output_type": "execute_result"
    }
   ],
   "source": [
    "automobile.info"
   ]
  },
  {
   "cell_type": "markdown",
   "metadata": {},
   "source": [
    "The .describe() method helps me further detecting possible issues in the dataset. Here I can see straight away that there are issues with the symboling values (4 is not a valid ranking), there is an issue with the price of a car too.\n",
    "That also tells me I have null values in 6 columns."
   ]
  },
  {
   "cell_type": "code",
   "execution_count": 8,
   "metadata": {},
   "outputs": [
    {
     "data": {
      "text/html": [
       "<div>\n",
       "<style scoped>\n",
       "    .dataframe tbody tr th:only-of-type {\n",
       "        vertical-align: middle;\n",
       "    }\n",
       "\n",
       "    .dataframe tbody tr th {\n",
       "        vertical-align: top;\n",
       "    }\n",
       "\n",
       "    .dataframe thead th {\n",
       "        text-align: right;\n",
       "    }\n",
       "</style>\n",
       "<table border=\"1\" class=\"dataframe\">\n",
       "  <thead>\n",
       "    <tr style=\"text-align: right;\">\n",
       "      <th></th>\n",
       "      <th>Symboling</th>\n",
       "      <th>Normalised-losses</th>\n",
       "      <th>Wheel-base</th>\n",
       "      <th>Length</th>\n",
       "      <th>Width</th>\n",
       "      <th>Height</th>\n",
       "      <th>Curb-weight</th>\n",
       "      <th>Engine-size</th>\n",
       "      <th>Bore</th>\n",
       "      <th>Stroke</th>\n",
       "      <th>Compression-ratio</th>\n",
       "      <th>Horsepower</th>\n",
       "      <th>Peak-rpm</th>\n",
       "      <th>City-mpg</th>\n",
       "      <th>Highway-mpg</th>\n",
       "      <th>Price</th>\n",
       "    </tr>\n",
       "  </thead>\n",
       "  <tbody>\n",
       "    <tr>\n",
       "      <th>count</th>\n",
       "      <td>238.000000</td>\n",
       "      <td>191.000000</td>\n",
       "      <td>238.00000</td>\n",
       "      <td>238.000000</td>\n",
       "      <td>238.000000</td>\n",
       "      <td>238.000000</td>\n",
       "      <td>238.000000</td>\n",
       "      <td>238.000000</td>\n",
       "      <td>234.000000</td>\n",
       "      <td>234.000000</td>\n",
       "      <td>238.000000</td>\n",
       "      <td>236.000000</td>\n",
       "      <td>236.000000</td>\n",
       "      <td>238.000000</td>\n",
       "      <td>238.000000</td>\n",
       "      <td>234.000000</td>\n",
       "    </tr>\n",
       "    <tr>\n",
       "      <th>mean</th>\n",
       "      <td>0.642857</td>\n",
       "      <td>116.863874</td>\n",
       "      <td>100.15042</td>\n",
       "      <td>176.094538</td>\n",
       "      <td>66.306303</td>\n",
       "      <td>53.987815</td>\n",
       "      <td>2628.159664</td>\n",
       "      <td>129.575630</td>\n",
       "      <td>3.361282</td>\n",
       "      <td>3.243120</td>\n",
       "      <td>10.458908</td>\n",
       "      <td>107.152542</td>\n",
       "      <td>5140.889831</td>\n",
       "      <td>24.638655</td>\n",
       "      <td>30.016807</td>\n",
       "      <td>13696.081197</td>\n",
       "    </tr>\n",
       "    <tr>\n",
       "      <th>std</th>\n",
       "      <td>1.360446</td>\n",
       "      <td>36.171118</td>\n",
       "      <td>6.59659</td>\n",
       "      <td>12.534385</td>\n",
       "      <td>2.230344</td>\n",
       "      <td>2.366944</td>\n",
       "      <td>517.099334</td>\n",
       "      <td>39.453019</td>\n",
       "      <td>0.290631</td>\n",
       "      <td>0.301348</td>\n",
       "      <td>4.384463</td>\n",
       "      <td>38.288297</td>\n",
       "      <td>456.806273</td>\n",
       "      <td>6.357468</td>\n",
       "      <td>6.681397</td>\n",
       "      <td>8060.776465</td>\n",
       "    </tr>\n",
       "    <tr>\n",
       "      <th>min</th>\n",
       "      <td>-2.000000</td>\n",
       "      <td>25.000000</td>\n",
       "      <td>86.60000</td>\n",
       "      <td>141.100000</td>\n",
       "      <td>60.300000</td>\n",
       "      <td>47.800000</td>\n",
       "      <td>1488.000000</td>\n",
       "      <td>61.000000</td>\n",
       "      <td>2.540000</td>\n",
       "      <td>2.070000</td>\n",
       "      <td>7.000000</td>\n",
       "      <td>48.000000</td>\n",
       "      <td>4150.000000</td>\n",
       "      <td>13.000000</td>\n",
       "      <td>16.000000</td>\n",
       "      <td>0.000000</td>\n",
       "    </tr>\n",
       "    <tr>\n",
       "      <th>25%</th>\n",
       "      <td>0.000000</td>\n",
       "      <td>94.000000</td>\n",
       "      <td>95.15000</td>\n",
       "      <td>168.700000</td>\n",
       "      <td>64.400000</td>\n",
       "      <td>52.000000</td>\n",
       "      <td>2224.750000</td>\n",
       "      <td>98.000000</td>\n",
       "      <td>3.150000</td>\n",
       "      <td>3.112500</td>\n",
       "      <td>8.700000</td>\n",
       "      <td>75.250000</td>\n",
       "      <td>4800.000000</td>\n",
       "      <td>19.000000</td>\n",
       "      <td>25.000000</td>\n",
       "      <td>7823.000000</td>\n",
       "    </tr>\n",
       "    <tr>\n",
       "      <th>50%</th>\n",
       "      <td>0.000000</td>\n",
       "      <td>104.000000</td>\n",
       "      <td>98.40000</td>\n",
       "      <td>175.500000</td>\n",
       "      <td>66.050000</td>\n",
       "      <td>54.400000</td>\n",
       "      <td>2548.000000</td>\n",
       "      <td>122.000000</td>\n",
       "      <td>3.350000</td>\n",
       "      <td>3.270000</td>\n",
       "      <td>9.000000</td>\n",
       "      <td>102.000000</td>\n",
       "      <td>5200.000000</td>\n",
       "      <td>24.000000</td>\n",
       "      <td>29.000000</td>\n",
       "      <td>11253.500000</td>\n",
       "    </tr>\n",
       "    <tr>\n",
       "      <th>75%</th>\n",
       "      <td>2.000000</td>\n",
       "      <td>145.000000</td>\n",
       "      <td>105.57500</td>\n",
       "      <td>188.800000</td>\n",
       "      <td>68.400000</td>\n",
       "      <td>55.500000</td>\n",
       "      <td>3049.000000</td>\n",
       "      <td>145.000000</td>\n",
       "      <td>3.620000</td>\n",
       "      <td>3.400000</td>\n",
       "      <td>9.500000</td>\n",
       "      <td>121.000000</td>\n",
       "      <td>5500.000000</td>\n",
       "      <td>28.750000</td>\n",
       "      <td>34.000000</td>\n",
       "      <td>17890.000000</td>\n",
       "    </tr>\n",
       "    <tr>\n",
       "      <th>max</th>\n",
       "      <td>4.000000</td>\n",
       "      <td>256.000000</td>\n",
       "      <td>120.90000</td>\n",
       "      <td>208.100000</td>\n",
       "      <td>72.300000</td>\n",
       "      <td>59.800000</td>\n",
       "      <td>4066.000000</td>\n",
       "      <td>326.000000</td>\n",
       "      <td>3.940000</td>\n",
       "      <td>4.170000</td>\n",
       "      <td>23.000000</td>\n",
       "      <td>288.000000</td>\n",
       "      <td>6600.000000</td>\n",
       "      <td>49.000000</td>\n",
       "      <td>54.000000</td>\n",
       "      <td>45400.000000</td>\n",
       "    </tr>\n",
       "  </tbody>\n",
       "</table>\n",
       "</div>"
      ],
      "text/plain": [
       "        Symboling  Normalised-losses  Wheel-base      Length       Width  \\\n",
       "count  238.000000         191.000000   238.00000  238.000000  238.000000   \n",
       "mean     0.642857         116.863874   100.15042  176.094538   66.306303   \n",
       "std      1.360446          36.171118     6.59659   12.534385    2.230344   \n",
       "min     -2.000000          25.000000    86.60000  141.100000   60.300000   \n",
       "25%      0.000000          94.000000    95.15000  168.700000   64.400000   \n",
       "50%      0.000000         104.000000    98.40000  175.500000   66.050000   \n",
       "75%      2.000000         145.000000   105.57500  188.800000   68.400000   \n",
       "max      4.000000         256.000000   120.90000  208.100000   72.300000   \n",
       "\n",
       "           Height  Curb-weight  Engine-size        Bore      Stroke  \\\n",
       "count  238.000000   238.000000   238.000000  234.000000  234.000000   \n",
       "mean    53.987815  2628.159664   129.575630    3.361282    3.243120   \n",
       "std      2.366944   517.099334    39.453019    0.290631    0.301348   \n",
       "min     47.800000  1488.000000    61.000000    2.540000    2.070000   \n",
       "25%     52.000000  2224.750000    98.000000    3.150000    3.112500   \n",
       "50%     54.400000  2548.000000   122.000000    3.350000    3.270000   \n",
       "75%     55.500000  3049.000000   145.000000    3.620000    3.400000   \n",
       "max     59.800000  4066.000000   326.000000    3.940000    4.170000   \n",
       "\n",
       "       Compression-ratio  Horsepower     Peak-rpm    City-mpg  Highway-mpg  \\\n",
       "count         238.000000  236.000000   236.000000  238.000000   238.000000   \n",
       "mean           10.458908  107.152542  5140.889831   24.638655    30.016807   \n",
       "std             4.384463   38.288297   456.806273    6.357468     6.681397   \n",
       "min             7.000000   48.000000  4150.000000   13.000000    16.000000   \n",
       "25%             8.700000   75.250000  4800.000000   19.000000    25.000000   \n",
       "50%             9.000000  102.000000  5200.000000   24.000000    29.000000   \n",
       "75%             9.500000  121.000000  5500.000000   28.750000    34.000000   \n",
       "max            23.000000  288.000000  6600.000000   49.000000    54.000000   \n",
       "\n",
       "              Price  \n",
       "count    234.000000  \n",
       "mean   13696.081197  \n",
       "std     8060.776465  \n",
       "min        0.000000  \n",
       "25%     7823.000000  \n",
       "50%    11253.500000  \n",
       "75%    17890.000000  \n",
       "max    45400.000000  "
      ]
     },
     "execution_count": 8,
     "metadata": {},
     "output_type": "execute_result"
    }
   ],
   "source": [
    "automobile.describe()"
   ]
  },
  {
   "cell_type": "markdown",
   "metadata": {},
   "source": [
    "Here I'm confirming which column have missing values and how many"
   ]
  },
  {
   "cell_type": "code",
   "execution_count": 9,
   "metadata": {},
   "outputs": [
    {
     "data": {
      "text/plain": [
       "Symboling             0\n",
       "Normalised-losses    47\n",
       "Make                  0\n",
       "Fuel-type             0\n",
       "Aspiration            0\n",
       "Num-of-doors          2\n",
       "Body-style            0\n",
       "Drive-wheels          0\n",
       "Engine-location       0\n",
       "Wheel-base            0\n",
       "Length                0\n",
       "Width                 0\n",
       "Height                0\n",
       "Curb-weight           0\n",
       "Engine-type           0\n",
       "Num-of-cylinders      0\n",
       "Engine-size           0\n",
       "Fuel-system           0\n",
       "Bore                  4\n",
       "Stroke                4\n",
       "Compression-ratio     0\n",
       "Horsepower            2\n",
       "Peak-rpm              2\n",
       "City-mpg              0\n",
       "Highway-mpg           0\n",
       "Price                 4\n",
       "dtype: int64"
      ]
     },
     "execution_count": 9,
     "metadata": {},
     "output_type": "execute_result"
    }
   ],
   "source": [
    "automobile.isna().sum()"
   ]
  },
  {
   "cell_type": "code",
   "execution_count": 10,
   "metadata": {},
   "outputs": [
    {
     "data": {
      "text/plain": [
       "Index(['Symboling', 'Normalised-losses', 'Make', 'Fuel-type', 'Aspiration',\n",
       "       'Num-of-doors', 'Body-style', 'Drive-wheels', 'Engine-location',\n",
       "       'Wheel-base', 'Length', 'Width', 'Height', 'Curb-weight', 'Engine-type',\n",
       "       'Num-of-cylinders', 'Engine-size', 'Fuel-system', 'Bore', 'Stroke',\n",
       "       'Compression-ratio', 'Horsepower', 'Peak-rpm', 'City-mpg',\n",
       "       'Highway-mpg', 'Price'],\n",
       "      dtype='object')"
      ]
     },
     "execution_count": 10,
     "metadata": {},
     "output_type": "execute_result"
    }
   ],
   "source": [
    "automobile.columns"
   ]
  },
  {
   "cell_type": "markdown",
   "metadata": {},
   "source": [
    "# Dealing with impossible values"
   ]
  },
  {
   "cell_type": "code",
   "execution_count": 11,
   "metadata": {
    "scrolled": false
   },
   "outputs": [
    {
     "data": {
      "text/plain": [
       " 0    67\n",
       " 1    54\n",
       "-1    52\n",
       " 2    32\n",
       " 3    30\n",
       "-2     3\n",
       "Name: Symboling, dtype: int64"
      ]
     },
     "execution_count": 11,
     "metadata": {},
     "output_type": "execute_result"
    }
   ],
   "source": [
    "# The attribute range for symboling is: -3, -2, -1, 0, 1, 2, 3, I'm assuming that 4 was an error and replace it by the highest value within the range, so 3.\n",
    "symboling = automobile['Symboling']\n",
    "symboling.replace(4, 3, inplace=True)\n",
    "symboling.value_counts()"
   ]
  },
  {
   "cell_type": "code",
   "execution_count": 12,
   "metadata": {},
   "outputs": [],
   "source": [
    "# replacing the impossible value of 0 with NaN for further imputation\n",
    "price = automobile['Price']\n",
    "free = price == 0\n",
    "price.replace(0, np.NaN, inplace=True)\n"
   ]
  },
  {
   "cell_type": "markdown",
   "metadata": {},
   "source": [
    "# Dealing with spelling mistakes and whitespaces."
   ]
  },
  {
   "cell_type": "markdown",
   "metadata": {},
   "source": [
    "Here I'm mainly dealing columns with non numeric values"
   ]
  },
  {
   "cell_type": "code",
   "execution_count": 13,
   "metadata": {
    "scrolled": true
   },
   "outputs": [
    {
     "data": {
      "text/plain": [
       "volvo            44\n",
       "toyota           32\n",
       "nissan           18\n",
       "mazda            17\n",
       "mitsubishi       13\n",
       "honda            13\n",
       "volkswagen       12\n",
       "subaru           12\n",
       "peugot           11\n",
       "dodge             9\n",
       "mercedes-benz     8\n",
       "bmw               8\n",
       "plymouth          7\n",
       "audi              7\n",
       "saab              6\n",
       "porsche           5\n",
       "isuzu             4\n",
       "jaguar            3\n",
       "chevrolet         3\n",
       "alfa-romero       3\n",
       "renault           2\n",
       "mercury           1\n",
       "Name: Make, dtype: int64"
      ]
     },
     "execution_count": 13,
     "metadata": {},
     "output_type": "execute_result"
    }
   ],
   "source": [
    "make_striped = automobile['Make'].str.strip()\n",
    "make = make_striped.str.lower()\n",
    "make.replace('vol00112ov', 'volvo', inplace=True)\n",
    "automobile['Make'] = make\n",
    "automobile['Make'].value_counts()"
   ]
  },
  {
   "cell_type": "code",
   "execution_count": 14,
   "metadata": {
    "scrolled": true
   },
   "outputs": [
    {
     "data": {
      "text/plain": [
       "gas       210\n",
       "diesel     28\n",
       "Name: Fuel-type, dtype: int64"
      ]
     },
     "execution_count": 14,
     "metadata": {},
     "output_type": "execute_result"
    }
   ],
   "source": [
    "fuel_striped = automobile['Fuel-type'].str.strip()\n",
    "fuel = fuel_striped.str.lower()\n",
    "automobile['Fuel-type'] = fuel\n",
    "automobile['Fuel-type'].value_counts()"
   ]
  },
  {
   "cell_type": "code",
   "execution_count": 15,
   "metadata": {
    "scrolled": true
   },
   "outputs": [
    {
     "data": {
      "text/plain": [
       "std      178\n",
       "turbo     60\n",
       "Name: Aspiration, dtype: int64"
      ]
     },
     "execution_count": 15,
     "metadata": {},
     "output_type": "execute_result"
    }
   ],
   "source": [
    "aspiration_striped = automobile['Aspiration'].str.strip()\n",
    "aspiration = aspiration_striped.str.lower()\n",
    "aspiration.replace('turrrrbo', 'turbo', inplace=True)\n",
    "automobile['Aspiration'] = aspiration\n",
    "automobile['Aspiration'].value_counts()"
   ]
  },
  {
   "cell_type": "code",
   "execution_count": 16,
   "metadata": {
    "scrolled": true
   },
   "outputs": [
    {
     "data": {
      "text/plain": [
       "four    147\n",
       "two      89\n",
       "Name: Num-of-doors, dtype: int64"
      ]
     },
     "execution_count": 16,
     "metadata": {},
     "output_type": "execute_result"
    }
   ],
   "source": [
    "doors_striped = automobile['Num-of-doors'].str.strip()\n",
    "doors = doors_striped.str.lower()\n",
    "doors.replace('fourr', 'four', inplace=True)\n",
    "automobile['Num-of-doors'] = doors\n",
    "automobile['Num-of-doors'].value_counts()"
   ]
  },
  {
   "cell_type": "code",
   "execution_count": 17,
   "metadata": {
    "scrolled": true
   },
   "outputs": [
    {
     "data": {
      "text/plain": [
       "sedan          127\n",
       "hatchback       70\n",
       "wagon           27\n",
       "hardtop          8\n",
       "convertible      6\n",
       "Name: Body-style, dtype: int64"
      ]
     },
     "execution_count": 17,
     "metadata": {},
     "output_type": "execute_result"
    }
   ],
   "source": [
    "body_style_striped = automobile['Body-style'].str.strip()\n",
    "body_style = body_style_striped.str.lower()\n",
    "automobile['Body-style'] = body_style\n",
    "automobile['Body-style'].value_counts()"
   ]
  },
  {
   "cell_type": "code",
   "execution_count": 18,
   "metadata": {
    "scrolled": true
   },
   "outputs": [
    {
     "data": {
      "text/plain": [
       "fwd    120\n",
       "rwd    109\n",
       "4wd      9\n",
       "Name: Drive-wheels, dtype: int64"
      ]
     },
     "execution_count": 18,
     "metadata": {},
     "output_type": "execute_result"
    }
   ],
   "source": [
    "wheels_striped = automobile['Drive-wheels'].str.strip()\n",
    "wheels = wheels_striped.str.lower()\n",
    "automobile['Drive-wheels'] = wheels\n",
    "automobile['Drive-wheels'].value_counts()"
   ]
  },
  {
   "cell_type": "code",
   "execution_count": 19,
   "metadata": {
    "scrolled": true
   },
   "outputs": [
    {
     "data": {
      "text/plain": [
       "front    235\n",
       "rear       3\n",
       "Name: Engine-location, dtype: int64"
      ]
     },
     "execution_count": 19,
     "metadata": {},
     "output_type": "execute_result"
    }
   ],
   "source": [
    "engine_loc_striped = automobile['Engine-location'].str.strip()\n",
    "engine_loc = engine_loc_striped.str.lower()\n",
    "automobile['Engine-location'] = engine_loc\n",
    "automobile['Engine-location'].value_counts()"
   ]
  },
  {
   "cell_type": "code",
   "execution_count": 20,
   "metadata": {
    "scrolled": true
   },
   "outputs": [
    {
     "data": {
      "text/plain": [
       "ohc      176\n",
       "ohcv      18\n",
       "ohcf      15\n",
       "dohc      12\n",
       "l         12\n",
       "rotor      4\n",
       "dohcv      1\n",
       "Name: Engine-type, dtype: int64"
      ]
     },
     "execution_count": 20,
     "metadata": {},
     "output_type": "execute_result"
    }
   ],
   "source": [
    "engine_type_striped = automobile['Engine-type'].str.strip()\n",
    "engine_type = engine_type_striped.str.lower()\n",
    "automobile['Engine-type'] = engine_type\n",
    "automobile['Engine-type'].value_counts()"
   ]
  },
  {
   "cell_type": "code",
   "execution_count": 21,
   "metadata": {
    "scrolled": true
   },
   "outputs": [
    {
     "data": {
      "text/plain": [
       "four      179\n",
       "six        37\n",
       "five       11\n",
       "eight       5\n",
       "two         4\n",
       "twelve      1\n",
       "three       1\n",
       "Name: Num-of-cylinders, dtype: int64"
      ]
     },
     "execution_count": 21,
     "metadata": {},
     "output_type": "execute_result"
    }
   ],
   "source": [
    "cylinders_striped = automobile['Num-of-cylinders'].str.strip()\n",
    "cylinders = cylinders_striped.str.lower()\n",
    "automobile['Num-of-cylinders'] = cylinders\n",
    "automobile['Num-of-cylinders'].value_counts()"
   ]
  },
  {
   "cell_type": "code",
   "execution_count": 22,
   "metadata": {
    "scrolled": true
   },
   "outputs": [
    {
     "data": {
      "text/plain": [
       "mpfi    119\n",
       "2bbl     66\n",
       "idi      28\n",
       "1bbl     11\n",
       "spdi      9\n",
       "4bbl      3\n",
       "spfi      1\n",
       "mfi       1\n",
       "Name: Fuel-system, dtype: int64"
      ]
     },
     "execution_count": 22,
     "metadata": {},
     "output_type": "execute_result"
    }
   ],
   "source": [
    "fuel_striped = automobile['Fuel-system'].str.strip()\n",
    "fuel = fuel_striped.str.lower()\n",
    "automobile['Fuel-system'] = fuel\n",
    "automobile['Fuel-system'].value_counts()\n"
   ]
  },
  {
   "cell_type": "markdown",
   "metadata": {},
   "source": [
    "# Dealing with missing values"
   ]
  },
  {
   "cell_type": "markdown",
   "metadata": {},
   "source": [
    "The attribute range for Normalised-losses is continuous from 65 to 256 so I'm going to replace the missing values by the mean of that range (193)"
   ]
  },
  {
   "cell_type": "code",
   "execution_count": 23,
   "metadata": {
    "scrolled": true
   },
   "outputs": [
    {
     "data": {
      "text/plain": [
       "False    238\n",
       "Name: Normalised-losses, dtype: int64"
      ]
     },
     "execution_count": 23,
     "metadata": {},
     "output_type": "execute_result"
    }
   ],
   "source": [
    "automobile.head(20)\n",
    "losses = automobile['Normalised-losses']\n",
    "losses.fillna(round(automobile['Normalised-losses'].mean(axis=0)),inplace=True)\n",
    "losses.isna().value_counts()\n"
   ]
  },
  {
   "cell_type": "code",
   "execution_count": 24,
   "metadata": {
    "scrolled": true
   },
   "outputs": [],
   "source": [
    "# I'm checking the rows who have null values\n",
    "numdoor = automobile['Num-of-doors']\n",
    "nodoors = pd.isnull(numdoor)\n",
    "# Here I'm checking against the Body-style, I'm assuming sedans have 4 doors as opossed to hatchback so I set the null value to 'four'\n",
    "numdoor.fillna(value='four', inplace=True)"
   ]
  },
  {
   "cell_type": "code",
   "execution_count": 25,
   "metadata": {
    "scrolled": true
   },
   "outputs": [],
   "source": [
    "bore = automobile['Bore']\n",
    "nobore= pd.isnull(bore)\n",
    "bore.fillna(round(bore.mean(axis=0), 2),inplace=True)"
   ]
  },
  {
   "cell_type": "code",
   "execution_count": 26,
   "metadata": {
    "scrolled": true
   },
   "outputs": [],
   "source": [
    "stroke = automobile['Stroke']\n",
    "nostroke= pd.isnull(stroke)\n",
    "stroke.fillna(round(stroke.mean(axis=0), 2),inplace=True)"
   ]
  },
  {
   "cell_type": "code",
   "execution_count": 27,
   "metadata": {
    "scrolled": true
   },
   "outputs": [],
   "source": [
    "\n",
    "horsepower = automobile['Horsepower']\n",
    "nohp = pd.isnull(horsepower)\n",
    "horsepower.fillna(round(horsepower.mean(axis=0)),inplace=True)\n"
   ]
  },
  {
   "cell_type": "code",
   "execution_count": 28,
   "metadata": {
    "scrolled": true
   },
   "outputs": [],
   "source": [
    "rpm = automobile['Peak-rpm']\n",
    "rpm.isna().value_counts()\n",
    "rpm.fillna(round(rpm.mean(axis=0)),inplace=True)"
   ]
  },
  {
   "cell_type": "code",
   "execution_count": 29,
   "metadata": {
    "scrolled": true
   },
   "outputs": [],
   "source": [
    "#get a distinct list of makes who have missing prices\n",
    "distinctNullMakes = automobile.loc[automobile.Price.isna() , 'Make'].unique()\n",
    "# loop through makes and fillna with the mean price of that particular make\n",
    "for make in distinctNullMakes:\n",
    "    mask = automobile.Make == make \n",
    "    mean = round(automobile.Price[mask].mean())\n",
    "    automobile[mask] = automobile[mask].fillna(mean)\n",
    "    \n",
    "# automobile['Price']=automobile.groupby('Make')['Price'].apply(lambda x:x.fillna(x.mean()))\n",
    "\n"
   ]
  },
  {
   "cell_type": "code",
   "execution_count": null,
   "metadata": {
    "scrolled": true
   },
   "outputs": [],
   "source": []
  },
  {
   "cell_type": "code",
   "execution_count": 30,
   "metadata": {},
   "outputs": [
    {
     "data": {
      "image/png": "[encoded data removed]",
      "text/plain": [
       "<Figure size 360x360 with 1 Axes>"
      ]
     },
     "metadata": {
      "image/png": {
       "height": 302,
       "width": 315
      },
      "needs_background": "light"
     },
     "output_type": "display_data"
    },
    {
     "data": {
      "image/png": "[encoded data removed]",
      "text/plain": [
       "<Figure size 360x360 with 1 Axes>"
      ]
     },
     "metadata": {
      "image/png": {
       "height": 302,
       "width": 319
      },
      "needs_background": "light"
     },
     "output_type": "display_data"
    },
    {
     "data": {
      "image/png": "[encoded data removed]",
      "text/plain": [
       "<Figure size 432x288 with 1 Axes>"
      ]
     },
     "metadata": {
      "image/png": {
       "height": 231,
       "width": 288
      }
     },
     "output_type": "display_data"
    }
   ],
   "source": [
    "# Task 2: Data Exploration\n",
    "# 1. Choose 1 column with nominal values, 1 column with ordinal Values, and 1 column with numerical values\n",
    "#Code goes after this line\n",
    "# symboling -> ordinal (pie or bar chart)\n",
    "# Normalised-losses -> numerical (bar graphs, scatterplots)\n",
    "# body-style - nominal\n",
    "automobile['Symboling'].plot(kind='box', figsize=(5, 5))\n",
    "plt.grid()\n",
    "plt.show()\n",
    "\n",
    "automobile['Normalised-losses'].plot(kind='box', figsize=(5, 5))\n",
    "plt.grid()\n",
    "plt.show()\n",
    "\n",
    "automobile['Body-style'].value_counts().plot(kind='pie',autopct='%.2f')\n",
    "plt.show()\n",
    "\n",
    "\n"
   ]
  },
  {
   "cell_type": "code",
   "execution_count": 31,
   "metadata": {},
   "outputs": [
    {
     "data": {
      "image/png": "[encoded data removed]",
      "text/plain": [
       "<Figure size 720x720 with 1 Axes>"
      ]
     },
     "metadata": {
      "image/png": {
       "height": 588,
       "width": 607
      },
      "needs_background": "light"
     },
     "output_type": "display_data"
    }
   ],
   "source": [
    "# Task 2: Data Exploration\n",
    "# 2. Explore the relationships between columns; at least 3 visualisations with plausible hypothesis\n",
    "\n",
    "#Code goes after this line\n",
    "\n",
    "\n",
    "# Plot price vs symboling\n",
    "automobile.plot(kind='scatter',x='Price', y=\"Symboling\", figsize=(10, 10))\n",
    "plt.grid()\n",
    "plt.show()\n",
    "\n"
   ]
  },
  {
   "cell_type": "code",
   "execution_count": 32,
   "metadata": {},
   "outputs": [],
   "source": [
    "# Task 2: Data Exploration\n",
    "# 3. Scatter matrix for all numerical columns\n",
    "# car_numeric = automobile.select_dtypes(include=np.number)\n",
    "# scatter_matrix(car_numeric,alpha=0.2,figsize=(30,30),diagonal='hist')\n",
    "# plt.show()"
   ]
  },
  {
   "cell_type": "code",
   "execution_count": 33,
   "metadata": {},
   "outputs": [],
   "source": [
    "automobile.to_excel(\"output_final.xlsx\") "
   ]
  },
  {
   "cell_type": "code",
   "execution_count": null,
   "metadata": {},
   "outputs": [],
   "source": []
  }
 ],
 "metadata": {
  "kernelspec": {
   "display_name": "Python 3",
   "language": "python",
   "name": "python3"
  },
  "language_info": {
   "codemirror_mode": {
    "name": "ipython",
    "version": 3
   },
   "file_extension": ".py",
   "mimetype": "text/x-python",
   "name": "python",
   "nbconvert_exporter": "python",
   "pygments_lexer": "ipython3",
   "version": "3.8.5"
  }
 },
 "nbformat": 4,
 "nbformat_minor": 2
}
